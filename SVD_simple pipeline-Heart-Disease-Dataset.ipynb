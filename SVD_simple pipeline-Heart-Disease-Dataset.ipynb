{
 "cells": [
  {
   "cell_type": "markdown",
   "id": "34680455",
   "metadata": {},
   "source": [
    "# Sarita - DSWDEOB 26082022"
   ]
  },
  {
   "cell_type": "markdown",
   "id": "c36a2408",
   "metadata": {},
   "source": [
    "# Dimesnion Reduction"
   ]
  },
  {
   "cell_type": "markdown",
   "id": "90d08486",
   "metadata": {},
   "source": [
    "## Data Collection"
   ]
  },
  {
   "cell_type": "markdown",
   "id": "ef48b6b2",
   "metadata": {},
   "source": [
    "Data: \n",
    "   The dataset contains details of heart patients.\n",
    "\n",
    "Data Dictionary:\n",
    "- Dataset contains 303 Heart Pateint details\n",
    "- 14 features are recorded for Heart Patient\n",
    "\n",
    "Description:\n",
    "- age :      age of patient \n",
    "- sex :      sex of patient \n",
    "- cp  :      chest pain type (4 values)\n",
    "- trestbps : resting blood pressure\n",
    "- chol   :   serum cholestoral in mg/dl\n",
    "- fbs    :   fasting blood sugar > 120 mg/dl\n",
    "- restecg :  resting electrocardiographic results (values 0,1,2)\n",
    "- thalach :  maximum heart rate achieved\n",
    "- exang   :  exercise induced angina\n",
    "- oldpeak :  ST depression induced by exercise relative to rest\n",
    "- slope   :  the slope of the peak exercise ST segment\n",
    "- ca     :   number of major vessels (0-3) colored by flourosopy\n",
    "- thal:  :   0 = normal; 1 = fixed defect; 2 = reversable defect\n",
    "- target :   The names and social security numbers of the patients were recently removed from the database, replaced with dummy values."
   ]
  },
  {
   "cell_type": "markdown",
   "id": "df301434",
   "metadata": {},
   "source": [
    "#### Install the required packages if not available"
   ]
  },
  {
   "cell_type": "code",
   "execution_count": 1,
   "id": "28d99dfc",
   "metadata": {},
   "outputs": [],
   "source": [
    "#!pip install feature_engine\n",
    "# !pip install dtale"
   ]
  },
  {
   "cell_type": "markdown",
   "id": "2d9db3ec",
   "metadata": {},
   "source": [
    "**Importing required packages**"
   ]
  },
  {
   "cell_type": "code",
   "execution_count": 16,
   "id": "e52dfe1e",
   "metadata": {},
   "outputs": [],
   "source": [
    "import pandas as pd\n",
    "import numpy as np\n",
    "import matplotlib.pyplot as plt\n",
    "from sklearn.impute import SimpleImputer\n",
    "from sklearn.preprocessing import StandardScaler\n",
    "from sklearn.pipeline import make_pipeline\n",
    "\n",
    "from sklearn.decomposition import TruncatedSVD\n",
    "from kneed import KneeLocator"
   ]
  },
  {
   "cell_type": "markdown",
   "id": "0d30bb11",
   "metadata": {},
   "source": [
    "### Suppress the Warnings"
   ]
  },
  {
   "cell_type": "code",
   "execution_count": 3,
   "id": "45b04c58",
   "metadata": {},
   "outputs": [],
   "source": [
    "import warnings\n",
    "warnings.filterwarnings(\"ignore\")"
   ]
  },
  {
   "cell_type": "markdown",
   "id": "54c8995a",
   "metadata": {},
   "source": [
    "**Import the data**"
   ]
  },
  {
   "cell_type": "code",
   "execution_count": 4,
   "id": "885b5cb4",
   "metadata": {},
   "outputs": [
    {
     "data": {
      "text/html": [
       "<div>\n",
       "<style scoped>\n",
       "    .dataframe tbody tr th:only-of-type {\n",
       "        vertical-align: middle;\n",
       "    }\n",
       "\n",
       "    .dataframe tbody tr th {\n",
       "        vertical-align: top;\n",
       "    }\n",
       "\n",
       "    .dataframe thead th {\n",
       "        text-align: right;\n",
       "    }\n",
       "</style>\n",
       "<table border=\"1\" class=\"dataframe\">\n",
       "  <thead>\n",
       "    <tr style=\"text-align: right;\">\n",
       "      <th></th>\n",
       "      <th>age</th>\n",
       "      <th>sex</th>\n",
       "      <th>cp</th>\n",
       "      <th>trestbps</th>\n",
       "      <th>chol</th>\n",
       "      <th>fbs</th>\n",
       "      <th>restecg</th>\n",
       "      <th>thalach</th>\n",
       "      <th>exang</th>\n",
       "      <th>oldpeak</th>\n",
       "      <th>slope</th>\n",
       "      <th>ca</th>\n",
       "      <th>thal</th>\n",
       "      <th>target</th>\n",
       "    </tr>\n",
       "  </thead>\n",
       "  <tbody>\n",
       "    <tr>\n",
       "      <th>0</th>\n",
       "      <td>63</td>\n",
       "      <td>1</td>\n",
       "      <td>3</td>\n",
       "      <td>145</td>\n",
       "      <td>233</td>\n",
       "      <td>1</td>\n",
       "      <td>0</td>\n",
       "      <td>150</td>\n",
       "      <td>0</td>\n",
       "      <td>2.3</td>\n",
       "      <td>0</td>\n",
       "      <td>0</td>\n",
       "      <td>1</td>\n",
       "      <td>1</td>\n",
       "    </tr>\n",
       "    <tr>\n",
       "      <th>1</th>\n",
       "      <td>37</td>\n",
       "      <td>1</td>\n",
       "      <td>2</td>\n",
       "      <td>130</td>\n",
       "      <td>250</td>\n",
       "      <td>0</td>\n",
       "      <td>1</td>\n",
       "      <td>187</td>\n",
       "      <td>0</td>\n",
       "      <td>3.5</td>\n",
       "      <td>0</td>\n",
       "      <td>0</td>\n",
       "      <td>2</td>\n",
       "      <td>1</td>\n",
       "    </tr>\n",
       "    <tr>\n",
       "      <th>2</th>\n",
       "      <td>41</td>\n",
       "      <td>0</td>\n",
       "      <td>1</td>\n",
       "      <td>130</td>\n",
       "      <td>204</td>\n",
       "      <td>0</td>\n",
       "      <td>0</td>\n",
       "      <td>172</td>\n",
       "      <td>0</td>\n",
       "      <td>1.4</td>\n",
       "      <td>2</td>\n",
       "      <td>0</td>\n",
       "      <td>2</td>\n",
       "      <td>1</td>\n",
       "    </tr>\n",
       "    <tr>\n",
       "      <th>3</th>\n",
       "      <td>56</td>\n",
       "      <td>1</td>\n",
       "      <td>1</td>\n",
       "      <td>120</td>\n",
       "      <td>236</td>\n",
       "      <td>0</td>\n",
       "      <td>1</td>\n",
       "      <td>178</td>\n",
       "      <td>0</td>\n",
       "      <td>0.8</td>\n",
       "      <td>2</td>\n",
       "      <td>0</td>\n",
       "      <td>2</td>\n",
       "      <td>1</td>\n",
       "    </tr>\n",
       "    <tr>\n",
       "      <th>4</th>\n",
       "      <td>57</td>\n",
       "      <td>0</td>\n",
       "      <td>0</td>\n",
       "      <td>120</td>\n",
       "      <td>354</td>\n",
       "      <td>0</td>\n",
       "      <td>1</td>\n",
       "      <td>163</td>\n",
       "      <td>1</td>\n",
       "      <td>0.6</td>\n",
       "      <td>2</td>\n",
       "      <td>0</td>\n",
       "      <td>2</td>\n",
       "      <td>1</td>\n",
       "    </tr>\n",
       "    <tr>\n",
       "      <th>...</th>\n",
       "      <td>...</td>\n",
       "      <td>...</td>\n",
       "      <td>...</td>\n",
       "      <td>...</td>\n",
       "      <td>...</td>\n",
       "      <td>...</td>\n",
       "      <td>...</td>\n",
       "      <td>...</td>\n",
       "      <td>...</td>\n",
       "      <td>...</td>\n",
       "      <td>...</td>\n",
       "      <td>...</td>\n",
       "      <td>...</td>\n",
       "      <td>...</td>\n",
       "    </tr>\n",
       "    <tr>\n",
       "      <th>298</th>\n",
       "      <td>57</td>\n",
       "      <td>0</td>\n",
       "      <td>0</td>\n",
       "      <td>140</td>\n",
       "      <td>241</td>\n",
       "      <td>0</td>\n",
       "      <td>1</td>\n",
       "      <td>123</td>\n",
       "      <td>1</td>\n",
       "      <td>0.2</td>\n",
       "      <td>1</td>\n",
       "      <td>0</td>\n",
       "      <td>3</td>\n",
       "      <td>0</td>\n",
       "    </tr>\n",
       "    <tr>\n",
       "      <th>299</th>\n",
       "      <td>45</td>\n",
       "      <td>1</td>\n",
       "      <td>3</td>\n",
       "      <td>110</td>\n",
       "      <td>264</td>\n",
       "      <td>0</td>\n",
       "      <td>1</td>\n",
       "      <td>132</td>\n",
       "      <td>0</td>\n",
       "      <td>1.2</td>\n",
       "      <td>1</td>\n",
       "      <td>0</td>\n",
       "      <td>3</td>\n",
       "      <td>0</td>\n",
       "    </tr>\n",
       "    <tr>\n",
       "      <th>300</th>\n",
       "      <td>68</td>\n",
       "      <td>1</td>\n",
       "      <td>0</td>\n",
       "      <td>144</td>\n",
       "      <td>193</td>\n",
       "      <td>1</td>\n",
       "      <td>1</td>\n",
       "      <td>141</td>\n",
       "      <td>0</td>\n",
       "      <td>3.4</td>\n",
       "      <td>1</td>\n",
       "      <td>2</td>\n",
       "      <td>3</td>\n",
       "      <td>0</td>\n",
       "    </tr>\n",
       "    <tr>\n",
       "      <th>301</th>\n",
       "      <td>57</td>\n",
       "      <td>1</td>\n",
       "      <td>0</td>\n",
       "      <td>130</td>\n",
       "      <td>131</td>\n",
       "      <td>0</td>\n",
       "      <td>1</td>\n",
       "      <td>115</td>\n",
       "      <td>1</td>\n",
       "      <td>1.2</td>\n",
       "      <td>1</td>\n",
       "      <td>1</td>\n",
       "      <td>3</td>\n",
       "      <td>0</td>\n",
       "    </tr>\n",
       "    <tr>\n",
       "      <th>302</th>\n",
       "      <td>57</td>\n",
       "      <td>0</td>\n",
       "      <td>1</td>\n",
       "      <td>130</td>\n",
       "      <td>236</td>\n",
       "      <td>0</td>\n",
       "      <td>0</td>\n",
       "      <td>174</td>\n",
       "      <td>0</td>\n",
       "      <td>0.0</td>\n",
       "      <td>1</td>\n",
       "      <td>1</td>\n",
       "      <td>2</td>\n",
       "      <td>0</td>\n",
       "    </tr>\n",
       "  </tbody>\n",
       "</table>\n",
       "<p>303 rows × 14 columns</p>\n",
       "</div>"
      ],
      "text/plain": [
       "     age  sex  cp  trestbps  chol  fbs  restecg  thalach  exang  oldpeak  \\\n",
       "0     63    1   3       145   233    1        0      150      0      2.3   \n",
       "1     37    1   2       130   250    0        1      187      0      3.5   \n",
       "2     41    0   1       130   204    0        0      172      0      1.4   \n",
       "3     56    1   1       120   236    0        1      178      0      0.8   \n",
       "4     57    0   0       120   354    0        1      163      1      0.6   \n",
       "..   ...  ...  ..       ...   ...  ...      ...      ...    ...      ...   \n",
       "298   57    0   0       140   241    0        1      123      1      0.2   \n",
       "299   45    1   3       110   264    0        1      132      0      1.2   \n",
       "300   68    1   0       144   193    1        1      141      0      3.4   \n",
       "301   57    1   0       130   131    0        1      115      1      1.2   \n",
       "302   57    0   1       130   236    0        0      174      0      0.0   \n",
       "\n",
       "     slope  ca  thal  target  \n",
       "0        0   0     1       1  \n",
       "1        0   0     2       1  \n",
       "2        2   0     2       1  \n",
       "3        2   0     2       1  \n",
       "4        2   0     2       1  \n",
       "..     ...  ..   ...     ...  \n",
       "298      1   0     3       0  \n",
       "299      1   0     3       0  \n",
       "300      1   2     3       0  \n",
       "301      1   1     3       0  \n",
       "302      1   1     2       0  \n",
       "\n",
       "[303 rows x 14 columns]"
      ]
     },
     "execution_count": 4,
     "metadata": {},
     "output_type": "execute_result"
    }
   ],
   "source": [
    "df = pd.read_csv(r\"C:\\Users\\Ajay Nandal\\Downloads\\Datasets_PCA_Problem Statement\\heart disease.csv\")\n",
    "df"
   ]
  },
  {
   "cell_type": "code",
   "execution_count": 5,
   "id": "53119a89",
   "metadata": {},
   "outputs": [
    {
     "name": "stdout",
     "output_type": "stream",
     "text": [
      "<class 'pandas.core.frame.DataFrame'>\n",
      "RangeIndex: 303 entries, 0 to 302\n",
      "Data columns (total 14 columns):\n",
      " #   Column    Non-Null Count  Dtype  \n",
      "---  ------    --------------  -----  \n",
      " 0   age       303 non-null    int64  \n",
      " 1   sex       303 non-null    int64  \n",
      " 2   cp        303 non-null    int64  \n",
      " 3   trestbps  303 non-null    int64  \n",
      " 4   chol      303 non-null    int64  \n",
      " 5   fbs       303 non-null    int64  \n",
      " 6   restecg   303 non-null    int64  \n",
      " 7   thalach   303 non-null    int64  \n",
      " 8   exang     303 non-null    int64  \n",
      " 9   oldpeak   303 non-null    float64\n",
      " 10  slope     303 non-null    int64  \n",
      " 11  ca        303 non-null    int64  \n",
      " 12  thal      303 non-null    int64  \n",
      " 13  target    303 non-null    int64  \n",
      "dtypes: float64(1), int64(13)\n",
      "memory usage: 33.3 KB\n"
     ]
    }
   ],
   "source": [
    "df.info()"
   ]
  },
  {
   "cell_type": "markdown",
   "id": "aaed0217",
   "metadata": {},
   "source": [
    "# EXPLORATORY DATA ANALYSIS (EDA) / DESCRIPTIVE STATISTICS"
   ]
  },
  {
   "cell_type": "markdown",
   "id": "cb019b38",
   "metadata": {},
   "source": [
    "***Descriptive Statistics and Data Distribution Function***"
   ]
  },
  {
   "cell_type": "code",
   "execution_count": 6,
   "id": "04fd3fc6",
   "metadata": {},
   "outputs": [
    {
     "data": {
      "text/html": [
       "<div>\n",
       "<style scoped>\n",
       "    .dataframe tbody tr th:only-of-type {\n",
       "        vertical-align: middle;\n",
       "    }\n",
       "\n",
       "    .dataframe tbody tr th {\n",
       "        vertical-align: top;\n",
       "    }\n",
       "\n",
       "    .dataframe thead th {\n",
       "        text-align: right;\n",
       "    }\n",
       "</style>\n",
       "<table border=\"1\" class=\"dataframe\">\n",
       "  <thead>\n",
       "    <tr style=\"text-align: right;\">\n",
       "      <th></th>\n",
       "      <th>age</th>\n",
       "      <th>sex</th>\n",
       "      <th>cp</th>\n",
       "      <th>trestbps</th>\n",
       "      <th>chol</th>\n",
       "      <th>fbs</th>\n",
       "      <th>restecg</th>\n",
       "      <th>thalach</th>\n",
       "      <th>exang</th>\n",
       "      <th>oldpeak</th>\n",
       "      <th>slope</th>\n",
       "      <th>ca</th>\n",
       "      <th>thal</th>\n",
       "      <th>target</th>\n",
       "    </tr>\n",
       "  </thead>\n",
       "  <tbody>\n",
       "    <tr>\n",
       "      <th>count</th>\n",
       "      <td>303.000000</td>\n",
       "      <td>303.000000</td>\n",
       "      <td>303.000000</td>\n",
       "      <td>303.000000</td>\n",
       "      <td>303.000000</td>\n",
       "      <td>303.000000</td>\n",
       "      <td>303.000000</td>\n",
       "      <td>303.000000</td>\n",
       "      <td>303.000000</td>\n",
       "      <td>303.000000</td>\n",
       "      <td>303.000000</td>\n",
       "      <td>303.000000</td>\n",
       "      <td>303.000000</td>\n",
       "      <td>303.000000</td>\n",
       "    </tr>\n",
       "    <tr>\n",
       "      <th>mean</th>\n",
       "      <td>54.366337</td>\n",
       "      <td>0.683168</td>\n",
       "      <td>0.966997</td>\n",
       "      <td>131.623762</td>\n",
       "      <td>246.264026</td>\n",
       "      <td>0.148515</td>\n",
       "      <td>0.528053</td>\n",
       "      <td>149.646865</td>\n",
       "      <td>0.326733</td>\n",
       "      <td>1.039604</td>\n",
       "      <td>1.399340</td>\n",
       "      <td>0.729373</td>\n",
       "      <td>2.313531</td>\n",
       "      <td>0.544554</td>\n",
       "    </tr>\n",
       "    <tr>\n",
       "      <th>std</th>\n",
       "      <td>9.082101</td>\n",
       "      <td>0.466011</td>\n",
       "      <td>1.032052</td>\n",
       "      <td>17.538143</td>\n",
       "      <td>51.830751</td>\n",
       "      <td>0.356198</td>\n",
       "      <td>0.525860</td>\n",
       "      <td>22.905161</td>\n",
       "      <td>0.469794</td>\n",
       "      <td>1.161075</td>\n",
       "      <td>0.616226</td>\n",
       "      <td>1.022606</td>\n",
       "      <td>0.612277</td>\n",
       "      <td>0.498835</td>\n",
       "    </tr>\n",
       "    <tr>\n",
       "      <th>min</th>\n",
       "      <td>29.000000</td>\n",
       "      <td>0.000000</td>\n",
       "      <td>0.000000</td>\n",
       "      <td>94.000000</td>\n",
       "      <td>126.000000</td>\n",
       "      <td>0.000000</td>\n",
       "      <td>0.000000</td>\n",
       "      <td>71.000000</td>\n",
       "      <td>0.000000</td>\n",
       "      <td>0.000000</td>\n",
       "      <td>0.000000</td>\n",
       "      <td>0.000000</td>\n",
       "      <td>0.000000</td>\n",
       "      <td>0.000000</td>\n",
       "    </tr>\n",
       "    <tr>\n",
       "      <th>25%</th>\n",
       "      <td>47.500000</td>\n",
       "      <td>0.000000</td>\n",
       "      <td>0.000000</td>\n",
       "      <td>120.000000</td>\n",
       "      <td>211.000000</td>\n",
       "      <td>0.000000</td>\n",
       "      <td>0.000000</td>\n",
       "      <td>133.500000</td>\n",
       "      <td>0.000000</td>\n",
       "      <td>0.000000</td>\n",
       "      <td>1.000000</td>\n",
       "      <td>0.000000</td>\n",
       "      <td>2.000000</td>\n",
       "      <td>0.000000</td>\n",
       "    </tr>\n",
       "    <tr>\n",
       "      <th>50%</th>\n",
       "      <td>55.000000</td>\n",
       "      <td>1.000000</td>\n",
       "      <td>1.000000</td>\n",
       "      <td>130.000000</td>\n",
       "      <td>240.000000</td>\n",
       "      <td>0.000000</td>\n",
       "      <td>1.000000</td>\n",
       "      <td>153.000000</td>\n",
       "      <td>0.000000</td>\n",
       "      <td>0.800000</td>\n",
       "      <td>1.000000</td>\n",
       "      <td>0.000000</td>\n",
       "      <td>2.000000</td>\n",
       "      <td>1.000000</td>\n",
       "    </tr>\n",
       "    <tr>\n",
       "      <th>75%</th>\n",
       "      <td>61.000000</td>\n",
       "      <td>1.000000</td>\n",
       "      <td>2.000000</td>\n",
       "      <td>140.000000</td>\n",
       "      <td>274.500000</td>\n",
       "      <td>0.000000</td>\n",
       "      <td>1.000000</td>\n",
       "      <td>166.000000</td>\n",
       "      <td>1.000000</td>\n",
       "      <td>1.600000</td>\n",
       "      <td>2.000000</td>\n",
       "      <td>1.000000</td>\n",
       "      <td>3.000000</td>\n",
       "      <td>1.000000</td>\n",
       "    </tr>\n",
       "    <tr>\n",
       "      <th>max</th>\n",
       "      <td>77.000000</td>\n",
       "      <td>1.000000</td>\n",
       "      <td>3.000000</td>\n",
       "      <td>200.000000</td>\n",
       "      <td>564.000000</td>\n",
       "      <td>1.000000</td>\n",
       "      <td>2.000000</td>\n",
       "      <td>202.000000</td>\n",
       "      <td>1.000000</td>\n",
       "      <td>6.200000</td>\n",
       "      <td>2.000000</td>\n",
       "      <td>4.000000</td>\n",
       "      <td>3.000000</td>\n",
       "      <td>1.000000</td>\n",
       "    </tr>\n",
       "  </tbody>\n",
       "</table>\n",
       "</div>"
      ],
      "text/plain": [
       "              age         sex          cp    trestbps        chol         fbs  \\\n",
       "count  303.000000  303.000000  303.000000  303.000000  303.000000  303.000000   \n",
       "mean    54.366337    0.683168    0.966997  131.623762  246.264026    0.148515   \n",
       "std      9.082101    0.466011    1.032052   17.538143   51.830751    0.356198   \n",
       "min     29.000000    0.000000    0.000000   94.000000  126.000000    0.000000   \n",
       "25%     47.500000    0.000000    0.000000  120.000000  211.000000    0.000000   \n",
       "50%     55.000000    1.000000    1.000000  130.000000  240.000000    0.000000   \n",
       "75%     61.000000    1.000000    2.000000  140.000000  274.500000    0.000000   \n",
       "max     77.000000    1.000000    3.000000  200.000000  564.000000    1.000000   \n",
       "\n",
       "          restecg     thalach       exang     oldpeak       slope          ca  \\\n",
       "count  303.000000  303.000000  303.000000  303.000000  303.000000  303.000000   \n",
       "mean     0.528053  149.646865    0.326733    1.039604    1.399340    0.729373   \n",
       "std      0.525860   22.905161    0.469794    1.161075    0.616226    1.022606   \n",
       "min      0.000000   71.000000    0.000000    0.000000    0.000000    0.000000   \n",
       "25%      0.000000  133.500000    0.000000    0.000000    1.000000    0.000000   \n",
       "50%      1.000000  153.000000    0.000000    0.800000    1.000000    0.000000   \n",
       "75%      1.000000  166.000000    1.000000    1.600000    2.000000    1.000000   \n",
       "max      2.000000  202.000000    1.000000    6.200000    2.000000    4.000000   \n",
       "\n",
       "             thal      target  \n",
       "count  303.000000  303.000000  \n",
       "mean     2.313531    0.544554  \n",
       "std      0.612277    0.498835  \n",
       "min      0.000000    0.000000  \n",
       "25%      2.000000    0.000000  \n",
       "50%      2.000000    1.000000  \n",
       "75%      3.000000    1.000000  \n",
       "max      3.000000    1.000000  "
      ]
     },
     "execution_count": 6,
     "metadata": {},
     "output_type": "execute_result"
    }
   ],
   "source": [
    "df.describe()"
   ]
  },
  {
   "cell_type": "markdown",
   "id": "d623dd27",
   "metadata": {},
   "source": [
    "# Data Preprocessing"
   ]
  },
  {
   "cell_type": "code",
   "execution_count": 7,
   "id": "536ef361",
   "metadata": {},
   "outputs": [],
   "source": [
    "# Drop the unwanted features\n",
    "#df1 = df.drop([\"UnivID\"], axis = 1)"
   ]
  },
  {
   "cell_type": "code",
   "execution_count": 8,
   "id": "fb2783be",
   "metadata": {},
   "outputs": [
    {
     "name": "stdout",
     "output_type": "stream",
     "text": [
      "<class 'pandas.core.frame.DataFrame'>\n",
      "RangeIndex: 303 entries, 0 to 302\n",
      "Data columns (total 14 columns):\n",
      " #   Column    Non-Null Count  Dtype  \n",
      "---  ------    --------------  -----  \n",
      " 0   age       303 non-null    int64  \n",
      " 1   sex       303 non-null    int64  \n",
      " 2   cp        303 non-null    int64  \n",
      " 3   trestbps  303 non-null    int64  \n",
      " 4   chol      303 non-null    int64  \n",
      " 5   fbs       303 non-null    int64  \n",
      " 6   restecg   303 non-null    int64  \n",
      " 7   thalach   303 non-null    int64  \n",
      " 8   exang     303 non-null    int64  \n",
      " 9   oldpeak   303 non-null    float64\n",
      " 10  slope     303 non-null    int64  \n",
      " 11  ca        303 non-null    int64  \n",
      " 12  thal      303 non-null    int64  \n",
      " 13  target    303 non-null    int64  \n",
      "dtypes: float64(1), int64(13)\n",
      "memory usage: 33.3 KB\n"
     ]
    }
   ],
   "source": [
    "df1 = df\n",
    "df1.info()"
   ]
  },
  {
   "cell_type": "markdown",
   "id": "438ef606",
   "metadata": {},
   "source": [
    "## Checking Null Values"
   ]
  },
  {
   "cell_type": "code",
   "execution_count": 9,
   "id": "ce7f1962",
   "metadata": {},
   "outputs": [
    {
     "data": {
      "text/plain": [
       "age         0\n",
       "sex         0\n",
       "cp          0\n",
       "trestbps    0\n",
       "chol        0\n",
       "fbs         0\n",
       "restecg     0\n",
       "thalach     0\n",
       "exang       0\n",
       "oldpeak     0\n",
       "slope       0\n",
       "ca          0\n",
       "thal        0\n",
       "target      0\n",
       "dtype: int64"
      ]
     },
     "execution_count": 9,
     "metadata": {},
     "output_type": "execute_result"
    }
   ],
   "source": [
    "df1.isnull().sum()"
   ]
  },
  {
   "cell_type": "markdown",
   "id": "a8a20385",
   "metadata": {},
   "source": [
    "### SVD can be implemented only on Numeric features"
   ]
  },
  {
   "cell_type": "code",
   "execution_count": 10,
   "id": "2d6f040e",
   "metadata": {},
   "outputs": [],
   "source": [
    "numeric_features = df1.select_dtypes(exclude = ['object']).columns"
   ]
  },
  {
   "cell_type": "code",
   "execution_count": 11,
   "id": "66c8b276",
   "metadata": {},
   "outputs": [
    {
     "data": {
      "text/plain": [
       "Index(['age', 'sex', 'cp', 'trestbps', 'chol', 'fbs', 'restecg', 'thalach',\n",
       "       'exang', 'oldpeak', 'slope', 'ca', 'thal', 'target'],\n",
       "      dtype='object')"
      ]
     },
     "execution_count": 11,
     "metadata": {},
     "output_type": "execute_result"
    }
   ],
   "source": [
    "numeric_features"
   ]
  },
  {
   "cell_type": "markdown",
   "id": "c46243eb",
   "metadata": {},
   "source": [
    "## Define the Pipeline steps"
   ]
  },
  {
   "cell_type": "markdown",
   "id": "952d13f7",
   "metadata": {},
   "source": [
    "#### Define SVD model"
   ]
  },
  {
   "cell_type": "code",
   "execution_count": 17,
   "id": "65ff6c10",
   "metadata": {},
   "outputs": [],
   "source": [
    "svd = TruncatedSVD(n_components = 6)"
   ]
  },
  {
   "cell_type": "markdown",
   "id": "1f04f4fd",
   "metadata": {},
   "source": [
    "## Make Pipeline"
   ]
  },
  {
   "cell_type": "markdown",
   "id": "a23226bc",
   "metadata": {},
   "source": [
    "**By using mean imputation, null values can be imputed**"
   ]
  },
  {
   "cell_type": "markdown",
   "id": "c1e9f658",
   "metadata": {},
   "source": [
    "**Data has to be standardized to address the scale difference**"
   ]
  },
  {
   "cell_type": "code",
   "execution_count": 18,
   "id": "c052ccdb",
   "metadata": {},
   "outputs": [],
   "source": [
    "num_pipeline = make_pipeline(SimpleImputer(strategy = 'mean'), StandardScaler(), svd)"
   ]
  },
  {
   "cell_type": "code",
   "execution_count": 19,
   "id": "dd622c2e",
   "metadata": {},
   "outputs": [],
   "source": [
    "# Pass the raw data through pipeline\n",
    "\n",
    "processed = num_pipeline.fit(df1[numeric_features]) "
   ]
  },
  {
   "cell_type": "code",
   "execution_count": 21,
   "id": "6fa49671",
   "metadata": {},
   "outputs": [
    {
     "data": {
      "text/plain": [
       "Pipeline(steps=[('simpleimputer', SimpleImputer()),\n",
       "                ('standardscaler', StandardScaler()),\n",
       "                ('truncatedsvd', TruncatedSVD(n_components=6))])"
      ]
     },
     "execution_count": 21,
     "metadata": {},
     "output_type": "execute_result"
    }
   ],
   "source": [
    "processed"
   ]
  },
  {
   "cell_type": "code",
   "execution_count": 22,
   "id": "dcca1b0b",
   "metadata": {},
   "outputs": [
    {
     "data": {
      "text/html": [
       "<div>\n",
       "<style scoped>\n",
       "    .dataframe tbody tr th:only-of-type {\n",
       "        vertical-align: middle;\n",
       "    }\n",
       "\n",
       "    .dataframe tbody tr th {\n",
       "        vertical-align: top;\n",
       "    }\n",
       "\n",
       "    .dataframe thead th {\n",
       "        text-align: right;\n",
       "    }\n",
       "</style>\n",
       "<table border=\"1\" class=\"dataframe\">\n",
       "  <thead>\n",
       "    <tr style=\"text-align: right;\">\n",
       "      <th></th>\n",
       "      <th>0</th>\n",
       "      <th>1</th>\n",
       "      <th>2</th>\n",
       "      <th>3</th>\n",
       "      <th>4</th>\n",
       "      <th>5</th>\n",
       "    </tr>\n",
       "  </thead>\n",
       "  <tbody>\n",
       "    <tr>\n",
       "      <th>0</th>\n",
       "      <td>-0.051739</td>\n",
       "      <td>2.624022</td>\n",
       "      <td>0.990054</td>\n",
       "      <td>3.479328</td>\n",
       "      <td>0.362773</td>\n",
       "      <td>1.695836</td>\n",
       "    </tr>\n",
       "    <tr>\n",
       "      <th>1</th>\n",
       "      <td>-0.817441</td>\n",
       "      <td>-0.730375</td>\n",
       "      <td>-0.235928</td>\n",
       "      <td>2.767545</td>\n",
       "      <td>2.258404</td>\n",
       "      <td>-0.808414</td>\n",
       "    </tr>\n",
       "    <tr>\n",
       "      <th>2</th>\n",
       "      <td>-2.057599</td>\n",
       "      <td>-0.039098</td>\n",
       "      <td>-0.519839</td>\n",
       "      <td>0.081198</td>\n",
       "      <td>0.860416</td>\n",
       "      <td>0.752783</td>\n",
       "    </tr>\n",
       "    <tr>\n",
       "      <th>3</th>\n",
       "      <td>-1.903043</td>\n",
       "      <td>-0.596701</td>\n",
       "      <td>0.076204</td>\n",
       "      <td>-0.082624</td>\n",
       "      <td>-0.235141</td>\n",
       "      <td>-0.500292</td>\n",
       "    </tr>\n",
       "    <tr>\n",
       "      <th>4</th>\n",
       "      <td>-0.768371</td>\n",
       "      <td>0.412545</td>\n",
       "      <td>-2.187455</td>\n",
       "      <td>-1.988510</td>\n",
       "      <td>0.017448</td>\n",
       "      <td>-0.074219</td>\n",
       "    </tr>\n",
       "    <tr>\n",
       "      <th>...</th>\n",
       "      <td>...</td>\n",
       "      <td>...</td>\n",
       "      <td>...</td>\n",
       "      <td>...</td>\n",
       "      <td>...</td>\n",
       "      <td>...</td>\n",
       "    </tr>\n",
       "    <tr>\n",
       "      <th>298</th>\n",
       "      <td>1.485287</td>\n",
       "      <td>-0.423483</td>\n",
       "      <td>-1.683247</td>\n",
       "      <td>-0.490555</td>\n",
       "      <td>-0.187162</td>\n",
       "      <td>-0.525461</td>\n",
       "    </tr>\n",
       "    <tr>\n",
       "      <th>299</th>\n",
       "      <td>-0.140325</td>\n",
       "      <td>-1.215922</td>\n",
       "      <td>0.138325</td>\n",
       "      <td>0.977923</td>\n",
       "      <td>0.884803</td>\n",
       "      <td>-1.240199</td>\n",
       "    </tr>\n",
       "    <tr>\n",
       "      <th>300</th>\n",
       "      <td>2.681772</td>\n",
       "      <td>0.593019</td>\n",
       "      <td>1.791015</td>\n",
       "      <td>1.300262</td>\n",
       "      <td>-1.331351</td>\n",
       "      <td>-1.201660</td>\n",
       "    </tr>\n",
       "    <tr>\n",
       "      <th>301</th>\n",
       "      <td>2.170858</td>\n",
       "      <td>-2.166992</td>\n",
       "      <td>-0.081516</td>\n",
       "      <td>0.890244</td>\n",
       "      <td>-1.177444</td>\n",
       "      <td>-0.346770</td>\n",
       "    </tr>\n",
       "    <tr>\n",
       "      <th>302</th>\n",
       "      <td>-0.365760</td>\n",
       "      <td>0.787916</td>\n",
       "      <td>-0.395860</td>\n",
       "      <td>-0.421878</td>\n",
       "      <td>0.203408</td>\n",
       "      <td>0.561283</td>\n",
       "    </tr>\n",
       "  </tbody>\n",
       "</table>\n",
       "<p>303 rows × 6 columns</p>\n",
       "</div>"
      ],
      "text/plain": [
       "            0         1         2         3         4         5\n",
       "0   -0.051739  2.624022  0.990054  3.479328  0.362773  1.695836\n",
       "1   -0.817441 -0.730375 -0.235928  2.767545  2.258404 -0.808414\n",
       "2   -2.057599 -0.039098 -0.519839  0.081198  0.860416  0.752783\n",
       "3   -1.903043 -0.596701  0.076204 -0.082624 -0.235141 -0.500292\n",
       "4   -0.768371  0.412545 -2.187455 -1.988510  0.017448 -0.074219\n",
       "..        ...       ...       ...       ...       ...       ...\n",
       "298  1.485287 -0.423483 -1.683247 -0.490555 -0.187162 -0.525461\n",
       "299 -0.140325 -1.215922  0.138325  0.977923  0.884803 -1.240199\n",
       "300  2.681772  0.593019  1.791015  1.300262 -1.331351 -1.201660\n",
       "301  2.170858 -2.166992 -0.081516  0.890244 -1.177444 -0.346770\n",
       "302 -0.365760  0.787916 -0.395860 -0.421878  0.203408  0.561283\n",
       "\n",
       "[303 rows x 6 columns]"
      ]
     },
     "execution_count": 22,
     "metadata": {},
     "output_type": "execute_result"
    }
   ],
   "source": [
    "# Apply the pipeline on the dataset\n",
    "HD = pd.DataFrame(processed.transform(df1[numeric_features]))\n",
    "\n",
    "HD"
   ]
  },
  {
   "cell_type": "markdown",
   "id": "234fa1da",
   "metadata": {},
   "source": [
    "## Save the End to End SVD pipeline with Imputation and Standardization"
   ]
  },
  {
   "cell_type": "code",
   "execution_count": 23,
   "id": "6d2fff48",
   "metadata": {},
   "outputs": [
    {
     "data": {
      "text/plain": [
       "['Data_prep_DimRed']"
      ]
     },
     "execution_count": 23,
     "metadata": {},
     "output_type": "execute_result"
    }
   ],
   "source": [
    "import joblib\n",
    "\n",
    "joblib.dump(processed, 'Data_prep_DimRed')"
   ]
  },
  {
   "cell_type": "code",
   "execution_count": 24,
   "id": "20772a14",
   "metadata": {},
   "outputs": [
    {
     "data": {
      "text/plain": [
       "'C:\\\\Users\\\\Ajay Nandal'"
      ]
     },
     "execution_count": 24,
     "metadata": {},
     "output_type": "execute_result"
    }
   ],
   "source": [
    "import os \n",
    "os.getcwd()"
   ]
  },
  {
   "cell_type": "markdown",
   "id": "ec217df4",
   "metadata": {},
   "source": [
    "## Import the pipeline"
   ]
  },
  {
   "cell_type": "code",
   "execution_count": 25,
   "id": "65f41d63",
   "metadata": {},
   "outputs": [],
   "source": [
    "model = joblib.load(\"Data_prep_DimRed\")"
   ]
  },
  {
   "cell_type": "code",
   "execution_count": 26,
   "id": "35cbb1b9",
   "metadata": {},
   "outputs": [
    {
     "data": {
      "text/plain": [
       "Pipeline(steps=[('simpleimputer', SimpleImputer()),\n",
       "                ('standardscaler', StandardScaler()),\n",
       "                ('truncatedsvd', TruncatedSVD(n_components=6))])"
      ]
     },
     "execution_count": 26,
     "metadata": {},
     "output_type": "execute_result"
    }
   ],
   "source": [
    "model"
   ]
  },
  {
   "cell_type": "markdown",
   "id": "7c4fdccb",
   "metadata": {},
   "source": [
    "## Apply the saved model on to the Dataset to extract SVD values"
   ]
  },
  {
   "cell_type": "code",
   "execution_count": 29,
   "id": "04e1fb9b",
   "metadata": {},
   "outputs": [
    {
     "data": {
      "text/html": [
       "<div>\n",
       "<style scoped>\n",
       "    .dataframe tbody tr th:only-of-type {\n",
       "        vertical-align: middle;\n",
       "    }\n",
       "\n",
       "    .dataframe tbody tr th {\n",
       "        vertical-align: top;\n",
       "    }\n",
       "\n",
       "    .dataframe thead th {\n",
       "        text-align: right;\n",
       "    }\n",
       "</style>\n",
       "<table border=\"1\" class=\"dataframe\">\n",
       "  <thead>\n",
       "    <tr style=\"text-align: right;\">\n",
       "      <th></th>\n",
       "      <th>0</th>\n",
       "      <th>1</th>\n",
       "      <th>2</th>\n",
       "      <th>3</th>\n",
       "      <th>4</th>\n",
       "      <th>5</th>\n",
       "    </tr>\n",
       "  </thead>\n",
       "  <tbody>\n",
       "    <tr>\n",
       "      <th>0</th>\n",
       "      <td>-0.051739</td>\n",
       "      <td>2.624022</td>\n",
       "      <td>0.990054</td>\n",
       "      <td>3.479328</td>\n",
       "      <td>0.362773</td>\n",
       "      <td>1.695836</td>\n",
       "    </tr>\n",
       "    <tr>\n",
       "      <th>1</th>\n",
       "      <td>-0.817441</td>\n",
       "      <td>-0.730375</td>\n",
       "      <td>-0.235928</td>\n",
       "      <td>2.767545</td>\n",
       "      <td>2.258404</td>\n",
       "      <td>-0.808414</td>\n",
       "    </tr>\n",
       "    <tr>\n",
       "      <th>2</th>\n",
       "      <td>-2.057599</td>\n",
       "      <td>-0.039098</td>\n",
       "      <td>-0.519839</td>\n",
       "      <td>0.081198</td>\n",
       "      <td>0.860416</td>\n",
       "      <td>0.752783</td>\n",
       "    </tr>\n",
       "    <tr>\n",
       "      <th>3</th>\n",
       "      <td>-1.903043</td>\n",
       "      <td>-0.596701</td>\n",
       "      <td>0.076204</td>\n",
       "      <td>-0.082624</td>\n",
       "      <td>-0.235141</td>\n",
       "      <td>-0.500292</td>\n",
       "    </tr>\n",
       "    <tr>\n",
       "      <th>4</th>\n",
       "      <td>-0.768371</td>\n",
       "      <td>0.412545</td>\n",
       "      <td>-2.187455</td>\n",
       "      <td>-1.988510</td>\n",
       "      <td>0.017448</td>\n",
       "      <td>-0.074219</td>\n",
       "    </tr>\n",
       "    <tr>\n",
       "      <th>...</th>\n",
       "      <td>...</td>\n",
       "      <td>...</td>\n",
       "      <td>...</td>\n",
       "      <td>...</td>\n",
       "      <td>...</td>\n",
       "      <td>...</td>\n",
       "    </tr>\n",
       "    <tr>\n",
       "      <th>298</th>\n",
       "      <td>1.485287</td>\n",
       "      <td>-0.423483</td>\n",
       "      <td>-1.683247</td>\n",
       "      <td>-0.490555</td>\n",
       "      <td>-0.187162</td>\n",
       "      <td>-0.525461</td>\n",
       "    </tr>\n",
       "    <tr>\n",
       "      <th>299</th>\n",
       "      <td>-0.140325</td>\n",
       "      <td>-1.215922</td>\n",
       "      <td>0.138325</td>\n",
       "      <td>0.977923</td>\n",
       "      <td>0.884803</td>\n",
       "      <td>-1.240199</td>\n",
       "    </tr>\n",
       "    <tr>\n",
       "      <th>300</th>\n",
       "      <td>2.681772</td>\n",
       "      <td>0.593019</td>\n",
       "      <td>1.791015</td>\n",
       "      <td>1.300262</td>\n",
       "      <td>-1.331351</td>\n",
       "      <td>-1.201660</td>\n",
       "    </tr>\n",
       "    <tr>\n",
       "      <th>301</th>\n",
       "      <td>2.170858</td>\n",
       "      <td>-2.166992</td>\n",
       "      <td>-0.081516</td>\n",
       "      <td>0.890244</td>\n",
       "      <td>-1.177444</td>\n",
       "      <td>-0.346770</td>\n",
       "    </tr>\n",
       "    <tr>\n",
       "      <th>302</th>\n",
       "      <td>-0.365760</td>\n",
       "      <td>0.787916</td>\n",
       "      <td>-0.395860</td>\n",
       "      <td>-0.421878</td>\n",
       "      <td>0.203408</td>\n",
       "      <td>0.561283</td>\n",
       "    </tr>\n",
       "  </tbody>\n",
       "</table>\n",
       "<p>303 rows × 6 columns</p>\n",
       "</div>"
      ],
      "text/plain": [
       "            0         1         2         3         4         5\n",
       "0   -0.051739  2.624022  0.990054  3.479328  0.362773  1.695836\n",
       "1   -0.817441 -0.730375 -0.235928  2.767545  2.258404 -0.808414\n",
       "2   -2.057599 -0.039098 -0.519839  0.081198  0.860416  0.752783\n",
       "3   -1.903043 -0.596701  0.076204 -0.082624 -0.235141 -0.500292\n",
       "4   -0.768371  0.412545 -2.187455 -1.988510  0.017448 -0.074219\n",
       "..        ...       ...       ...       ...       ...       ...\n",
       "298  1.485287 -0.423483 -1.683247 -0.490555 -0.187162 -0.525461\n",
       "299 -0.140325 -1.215922  0.138325  0.977923  0.884803 -1.240199\n",
       "300  2.681772  0.593019  1.791015  1.300262 -1.331351 -1.201660\n",
       "301  2.170858 -2.166992 -0.081516  0.890244 -1.177444 -0.346770\n",
       "302 -0.365760  0.787916 -0.395860 -0.421878  0.203408  0.561283\n",
       "\n",
       "[303 rows x 6 columns]"
      ]
     },
     "execution_count": 29,
     "metadata": {},
     "output_type": "execute_result"
    }
   ],
   "source": [
    "svd_res = pd.DataFrame(model.transform(df1[numeric_features]))\n",
    "\n",
    "svd_res"
   ]
  },
  {
   "cell_type": "markdown",
   "id": "cef0178f",
   "metadata": {},
   "source": [
    "# SVD for Feature Extraction"
   ]
  },
  {
   "cell_type": "code",
   "execution_count": 33,
   "id": "2a0d1128",
   "metadata": {},
   "outputs": [
    {
     "data": {
      "text/html": [
       "<div>\n",
       "<style scoped>\n",
       "    .dataframe tbody tr th:only-of-type {\n",
       "        vertical-align: middle;\n",
       "    }\n",
       "\n",
       "    .dataframe tbody tr th {\n",
       "        vertical-align: top;\n",
       "    }\n",
       "\n",
       "    .dataframe thead th {\n",
       "        text-align: right;\n",
       "    }\n",
       "</style>\n",
       "<table border=\"1\" class=\"dataframe\">\n",
       "  <thead>\n",
       "    <tr style=\"text-align: right;\">\n",
       "      <th></th>\n",
       "      <th>age</th>\n",
       "      <th>svd0</th>\n",
       "      <th>svd1</th>\n",
       "      <th>svd2</th>\n",
       "    </tr>\n",
       "  </thead>\n",
       "  <tbody>\n",
       "    <tr>\n",
       "      <th>0</th>\n",
       "      <td>63</td>\n",
       "      <td>-0.051739</td>\n",
       "      <td>2.624022</td>\n",
       "      <td>0.990054</td>\n",
       "    </tr>\n",
       "    <tr>\n",
       "      <th>1</th>\n",
       "      <td>37</td>\n",
       "      <td>-0.817441</td>\n",
       "      <td>-0.730375</td>\n",
       "      <td>-0.235928</td>\n",
       "    </tr>\n",
       "    <tr>\n",
       "      <th>2</th>\n",
       "      <td>41</td>\n",
       "      <td>-2.057599</td>\n",
       "      <td>-0.039098</td>\n",
       "      <td>-0.519839</td>\n",
       "    </tr>\n",
       "    <tr>\n",
       "      <th>3</th>\n",
       "      <td>56</td>\n",
       "      <td>-1.903043</td>\n",
       "      <td>-0.596701</td>\n",
       "      <td>0.076204</td>\n",
       "    </tr>\n",
       "    <tr>\n",
       "      <th>4</th>\n",
       "      <td>57</td>\n",
       "      <td>-0.768371</td>\n",
       "      <td>0.412545</td>\n",
       "      <td>-2.187455</td>\n",
       "    </tr>\n",
       "    <tr>\n",
       "      <th>...</th>\n",
       "      <td>...</td>\n",
       "      <td>...</td>\n",
       "      <td>...</td>\n",
       "      <td>...</td>\n",
       "    </tr>\n",
       "    <tr>\n",
       "      <th>298</th>\n",
       "      <td>57</td>\n",
       "      <td>1.485287</td>\n",
       "      <td>-0.423483</td>\n",
       "      <td>-1.683247</td>\n",
       "    </tr>\n",
       "    <tr>\n",
       "      <th>299</th>\n",
       "      <td>45</td>\n",
       "      <td>-0.140325</td>\n",
       "      <td>-1.215922</td>\n",
       "      <td>0.138325</td>\n",
       "    </tr>\n",
       "    <tr>\n",
       "      <th>300</th>\n",
       "      <td>68</td>\n",
       "      <td>2.681772</td>\n",
       "      <td>0.593019</td>\n",
       "      <td>1.791015</td>\n",
       "    </tr>\n",
       "    <tr>\n",
       "      <th>301</th>\n",
       "      <td>57</td>\n",
       "      <td>2.170858</td>\n",
       "      <td>-2.166992</td>\n",
       "      <td>-0.081516</td>\n",
       "    </tr>\n",
       "    <tr>\n",
       "      <th>302</th>\n",
       "      <td>57</td>\n",
       "      <td>-0.365760</td>\n",
       "      <td>0.787916</td>\n",
       "      <td>-0.395860</td>\n",
       "    </tr>\n",
       "  </tbody>\n",
       "</table>\n",
       "<p>303 rows × 4 columns</p>\n",
       "</div>"
      ],
      "text/plain": [
       "     age      svd0      svd1      svd2\n",
       "0     63 -0.051739  2.624022  0.990054\n",
       "1     37 -0.817441 -0.730375 -0.235928\n",
       "2     41 -2.057599 -0.039098 -0.519839\n",
       "3     56 -1.903043 -0.596701  0.076204\n",
       "4     57 -0.768371  0.412545 -2.187455\n",
       "..   ...       ...       ...       ...\n",
       "298   57  1.485287 -0.423483 -1.683247\n",
       "299   45 -0.140325 -1.215922  0.138325\n",
       "300   68  2.681772  0.593019  1.791015\n",
       "301   57  2.170858 -2.166992 -0.081516\n",
       "302   57 -0.365760  0.787916 -0.395860\n",
       "\n",
       "[303 rows x 4 columns]"
      ]
     },
     "execution_count": 33,
     "metadata": {},
     "output_type": "execute_result"
    }
   ],
   "source": [
    "# Final dataset with manageable number of columns (Feature Extraction)\n",
    "\n",
    "final = pd.concat([df.age, svd_res.iloc[:, 0:3]], axis = 1)\n",
    "final.columns = ['age', 'svd0', 'svd1', 'svd2']\n",
    "final"
   ]
  },
  {
   "cell_type": "code",
   "execution_count": 34,
   "id": "d193cfad",
   "metadata": {},
   "outputs": [
    {
     "data": {
      "text/plain": [
       "0      Text(-0.05173910760826528, 2.6240220403508094,...\n",
       "1      Text(-0.8174405938124418, -0.7303745764645042,...\n",
       "2      Text(-2.0575993225549123, -0.03909844631125674...\n",
       "3      Text(-1.9030431846461953, -0.596700877245276, ...\n",
       "4      Text(-0.7683706199246916, 0.4125454959715758, ...\n",
       "                             ...                        \n",
       "298    Text(1.485287158760746, -0.42348317449362843, ...\n",
       "299    Text(-0.14032537905307238, -1.2159220521656144...\n",
       "300    Text(2.6817720617178624, 0.5930189445601521, '...\n",
       "301    Text(2.1708579312401275, -2.166992045059814, '...\n",
       "302    Text(-0.3657596568455729, 0.7879160765700154, ...\n",
       "Length: 303, dtype: object"
      ]
     },
     "execution_count": 34,
     "metadata": {},
     "output_type": "execute_result"
    },
    {
     "data": {
      "image/png": "[encoded data removed]",
      "text/plain": [
       "<Figure size 864x576 with 1 Axes>"
      ]
     },
     "metadata": {
      "needs_background": "light"
     },
     "output_type": "display_data"
    }
   ],
   "source": [
    "# Scatter diagram\n",
    "ax = final.plot(x = 'svd0', y = 'svd1', kind = 'scatter', figsize = (12, 8))\n",
    "final[['svd0', 'svd1', 'age']].apply(lambda x: ax.text(*x), axis = 1)"
   ]
  },
  {
   "cell_type": "markdown",
   "id": "05b6f70b",
   "metadata": {},
   "source": [
    "# Prediction on new data"
   ]
  },
  {
   "cell_type": "code",
   "execution_count": 35,
   "id": "a39c78d7",
   "metadata": {},
   "outputs": [],
   "source": [
    "#newdf = pd.read_excel(r\"C:\\Users\\asus\\DataScience\\codes_DS_sample\\clustering_University_csv\\new_Univ_4_pred.xlsx\")\n",
    "\n",
    "#newdf"
   ]
  },
  {
   "cell_type": "code",
   "execution_count": null,
   "id": "4f5f7dae",
   "metadata": {},
   "outputs": [],
   "source": []
  },
  {
   "cell_type": "code",
   "execution_count": null,
   "id": "1c4732fd",
   "metadata": {},
   "outputs": [],
   "source": []
  }
 ],
 "metadata": {
  "kernelspec": {
   "display_name": "Python 3 (ipykernel)",
   "language": "python",
   "name": "python3"
  },
  "language_info": {
   "codemirror_mode": {
    "name": "ipython",
    "version": 3
   },
   "file_extension": ".py",
   "mimetype": "text/x-python",
   "name": "python",
   "nbconvert_exporter": "python",
   "pygments_lexer": "ipython3",
   "version": "3.9.12"
  }
 },
 "nbformat": 4,
 "nbformat_minor": 5
}
